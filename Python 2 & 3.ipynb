{
 "cells": [
  {
   "cell_type": "code",
   "execution_count": 1,
   "id": "2ea0c77d-3591-4734-94c8-1517fd0298c6",
   "metadata": {},
   "outputs": [],
   "source": [
    "import httplib2\n",
    "import logging\n",
    "import os\n",
    "import sys\n",
    "import json\n",
    "from IPython.display import JSON\n",
    "import pandas as pd\n",
    "import numpy as np\n",
    "import argparse\n",
    "import psycopg2 as pg \n",
    "import pandasql as ps"
   ]
  },
  {
   "cell_type": "code",
   "execution_count": 10,
   "id": "bf6d3503-5b43-46cd-ae75-ea11361d9ebc",
   "metadata": {},
   "outputs": [],
   "source": [
    "class Hewan:\n",
    "    nama_latin = 'Animalia'\n",
    "    \n",
    "    def __init__(self, nama, umur):\n",
    "        self.nama = nama\n",
    "        self.umur = umur\n",
    "        \n",
    "    def bersuara(self, bunyi):\n",
    "        print (self.nama, \"bersuara\", bunyi)\n",
    "        \n",
    "    @classmethod\n",
    "    def makan(cls):\n",
    "        print(f'{Hewan.nama_latin} sedang makan')\n",
    "        \n",
    "    @staticmethod\n",
    "    def tidur():\n",
    "        print(f'{Hewan.nama_latin} sedang tidur')\n",
    "        \n",
    "    def bangun(self, bangun):\n",
    "        print(self.nama, 'sudah', bangun)"
   ]
  },
  {
   "cell_type": "code",
   "execution_count": 11,
   "id": "373e76b5-82c4-4f8a-898d-6dc159950a46",
   "metadata": {},
   "outputs": [
    {
     "data": {
      "text/plain": [
       "'Animalia'"
      ]
     },
     "execution_count": 11,
     "metadata": {},
     "output_type": "execute_result"
    }
   ],
   "source": [
    "Hewan.nama_latin"
   ]
  },
  {
   "cell_type": "code",
   "execution_count": 15,
   "id": "3371809e-629d-412e-afa5-3a01c56abd90",
   "metadata": {},
   "outputs": [],
   "source": [
    "kucing = Hewan(nama='bleki', umur=2)\n",
    "ayam = Hewan(nama='oncom', umur= '5 bulan')"
   ]
  },
  {
   "cell_type": "code",
   "execution_count": 5,
   "id": "f271096d-e834-4795-a365-473128b33346",
   "metadata": {},
   "outputs": [],
   "source": [
    "import requests\n",
    "\n",
    "class WebPipeline:\n",
    "    \n",
    "    def __init__(self, link):\n",
    "        self.link =link\n",
    "        \n",
    "    def checkStatus(self, auth=None):\n",
    "        req = requests.get(self.link)\n",
    "        self.status = req.status_code\n",
    "        \n",
    "dataSumber_1 = WebPipeline('https://google.com')\n",
    "\n",
    "print(dataSumber_1.status)"
   ]
  },
  {
   "cell_type": "code",
   "execution_count": 10,
   "id": "05c856df-eb1b-451f-bd5b-805424100fb2",
   "metadata": {},
   "outputs": [
    {
     "name": "stdout",
     "output_type": "stream",
     "text": [
      "rahmat\n"
     ]
    }
   ],
   "source": [
    "class tutor():\n",
    "    def __init__(self, nama):\n",
    "        self.nama = nama\n",
    "        \n",
    "tutorDS = tutor('rahmat')\n",
    "print(tutorDS.nama)"
   ]
  },
  {
   "cell_type": "code",
   "execution_count": 12,
   "id": "74c31ec7-0949-43ac-97a1-e1e7c05a44f9",
   "metadata": {},
   "outputs": [],
   "source": [
    "class dog:\n",
    "    latin_name = 'dog'\n",
    "    def __init__(self, name, age):\n",
    "        self.name = name\n",
    "        self.age = age\n",
    "        \n",
    "        def get_name(self):\n",
    "            print(self_age)\n",
    "            \n",
    "class JackRussellTerrier(dog):\n",
    "    def speak(self):\n",
    "        print('bark')\n",
    "        \n",
    "class dachshund(dog):\n",
    "    def speak(self):\n",
    "        print('woof')\n",
    "\n",
    "class bulldog(dog):\n",
    "    def speak(self):\n",
    "        print('guk')\n",
    "        \n",
    "miles = JackRussellTerrier('Miles',4)"
   ]
  },
  {
   "cell_type": "code",
   "execution_count": 14,
   "id": "983cb6c1-5c90-4191-9e36-388502971200",
   "metadata": {},
   "outputs": [],
   "source": [
    "abby = dachshund('abby',3)\n",
    "terry = bulldog('terry',1)"
   ]
  },
  {
   "cell_type": "code",
   "execution_count": 15,
   "id": "57a578e7-9333-4d74-bbbf-a314cd65e03d",
   "metadata": {},
   "outputs": [
    {
     "name": "stdout",
     "output_type": "stream",
     "text": [
      "bark\n"
     ]
    }
   ],
   "source": [
    "miles.speak()"
   ]
  },
  {
   "cell_type": "code",
   "execution_count": 16,
   "id": "e90a0cff-2231-4975-bf8e-3a20d4ab47ec",
   "metadata": {},
   "outputs": [
    {
     "name": "stdout",
     "output_type": "stream",
     "text": [
      "woof\n"
     ]
    }
   ],
   "source": [
    "abby.speak()"
   ]
  }
 ],
 "metadata": {
  "kernelspec": {
   "display_name": "Python 3 (ipykernel)",
   "language": "python",
   "name": "python3"
  },
  "language_info": {
   "codemirror_mode": {
    "name": "ipython",
    "version": 3
   },
   "file_extension": ".py",
   "mimetype": "text/x-python",
   "name": "python",
   "nbconvert_exporter": "python",
   "pygments_lexer": "ipython3",
   "version": "3.9.15"
  }
 },
 "nbformat": 4,
 "nbformat_minor": 5
}
